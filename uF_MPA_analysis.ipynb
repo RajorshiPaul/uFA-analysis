{
 "cells": [
  {
   "cell_type": "code",
   "execution_count": 1,
   "id": "bd5bbb17",
   "metadata": {},
   "outputs": [],
   "source": [
    "import numpy as np\n",
    "import matplotlib.pyplot as plt\n",
    "import cv2\n",
    "import os"
   ]
  },
  {
   "cell_type": "code",
   "execution_count": 2,
   "id": "6cdcf701",
   "metadata": {},
   "outputs": [],
   "source": [
    "class Point():\n",
    "    def __init__(self, x, y):\n",
    "        self.x = x\n",
    "        self.y = y"
   ]
  },
  {
   "cell_type": "code",
   "execution_count": 3,
   "id": "6d32300d",
   "metadata": {},
   "outputs": [],
   "source": [
    "def remove_background(video_file):\n",
    "    frames = []\n",
    "    _, reference_frame= video_file.read()\n",
    "    reference_frame = cv2.cvtColor(reference_frame, cv2.COLOR_BGR2GRAY)\n",
    "    video_file.set(cv2.CAP_PROP_POS_FRAMES, 0)\n",
    "    retval = True\n",
    "    while retval:\n",
    "        retval, frame = video_file.read()\n",
    "        if retval:\n",
    "            frame = cv2.cvtColor(frame, cv2.COLOR_BGR2GRAY)\n",
    "\n",
    "            frames.append(cv2.subtract(reference_frame, frame))\n",
    "    \n",
    "    return frames, reference_frame\n",
    "        "
   ]
  },
  {
   "cell_type": "code",
   "execution_count": 7,
   "id": "44a79cb7",
   "metadata": {},
   "outputs": [],
   "source": [
    "# import videos\n",
    "filepath = \"C:/Users/rajor/OneDrive - Stanford/Experiments/Image processing/uF MPA/Videos/\"\n",
    "files = [file for file in os.listdir(filepath) if file.split('.')[1] == 'mp4']"
   ]
  },
  {
   "cell_type": "code",
   "execution_count": 8,
   "id": "9bbad44a",
   "metadata": {},
   "outputs": [],
   "source": [
    "video = cv2.VideoCapture(filepath + files[0])\n",
    "frames, reference_frame = remove_background(video)"
   ]
  },
  {
   "cell_type": "code",
   "execution_count": 9,
   "id": "7b80be80",
   "metadata": {},
   "outputs": [],
   "source": [
    "def compute_mean_px_sum(frame, idx, num_px=10):\n",
    "    right = idx\n",
    "    left = idx\n",
    "    if idx < num_px:\n",
    "        left = idx\n",
    "        right = idx + num_px\n",
    "    else:\n",
    "        left = idx - num_px\n",
    "        right = idx\n",
    "    s = np.sum(frame[:, left:right], axis=0)\n",
    "    return np.mean(s)"
   ]
  },
  {
   "cell_type": "code",
   "execution_count": 12,
   "id": "c5b42ce5",
   "metadata": {},
   "outputs": [],
   "source": [
    "%matplotlib qt\n",
    "displacement = []\n",
    "num_frames = len(frames)\n",
    "for num, frame in enumerate(frames):\n",
    "    if np.sum(frame[:,0]) > 3000 and num % 250 == 0:\n",
    "        sums = np.sum(frame.astype('float32'), axis=0)\n",
    "        grad = np.diff(sums)\n",
    "        d = np.argmin(sums) - np.argmin(grad)\n",
    "        displacement.append(d)\n",
    "        plt.subplot(2,1,1)\n",
    "        plt.title(f'Frame number: {num}')\n",
    "        plt.plot(sums, 'b-')\n",
    "        plt.xlabel('x (in px)')\n",
    "        plt.ylabel('Sum of pixel intensity')\n",
    "        plt.subplot(2,1,2)\n",
    "        plt.imshow(frame, cmap='gray', vmin=0, vmax=255)\n",
    "        plt.xlabel('x (in px)')\n",
    "        plt.ylabel('y (in px)')\n",
    "        plt.pause(0.01)\n",
    "        plt.clf()\n",
    "#         break\n",
    "\n",
    "# sums = np.sum(frames[20000], axis=0)\n",
    "# plt.plot(sums)\n",
    "# print(np.mean(frames[20000]))\n",
    "# plt.imshow(frames[20000])\n",
    "# plt.clf()\n",
    "plt.show()"
   ]
  },
  {
   "cell_type": "code",
   "execution_count": 19,
   "id": "f6f68041",
   "metadata": {},
   "outputs": [
    {
     "name": "stdout",
     "output_type": "stream",
     "text": [
      "104.33870967741936\n"
     ]
    }
   ],
   "source": [
    "%matplotlib qt\n",
    "plt.imshow(reference_frame.astype('float32'))\n",
    "coords = plt.ginput(1)\n",
    "plt.show()\n",
    "print(coords[0][0])\n",
    "# x_ref = 106"
   ]
  },
  {
   "cell_type": "code",
   "execution_count": 9,
   "id": "b966a295",
   "metadata": {},
   "outputs": [
    {
     "name": "stdout",
     "output_type": "stream",
     "text": [
      "99437\n"
     ]
    }
   ],
   "source": [
    "print(len(frames))\n",
    "plt.imshow(frames[43000])\n",
    "plt.show()"
   ]
  },
  {
   "cell_type": "code",
   "execution_count": 10,
   "id": "000c4414",
   "metadata": {},
   "outputs": [],
   "source": [
    "t = np.arange(len(displacement))\n",
    "plt.plot(t, np.array(displacement) * 20 / 26, 'b-')\n",
    "plt.ylabel('Displacement (um)')\n",
    "plt.xlabel('Time (sec)')\n",
    "plt.show()"
   ]
  },
  {
   "cell_type": "code",
   "execution_count": 11,
   "id": "9bdd9630",
   "metadata": {},
   "outputs": [
    {
     "name": "stderr",
     "output_type": "stream",
     "text": [
      "C:\\Users\\rajor\\AppData\\Local\\Temp\\ipykernel_24320\\3634621176.py:1: MatplotlibDeprecationWarning: Auto-removal of overlapping axes is deprecated since 3.6 and will be removed two minor releases later; explicitly call ax.remove() as needed.\n",
      "  plt.subplot(2,1,1)\n"
     ]
    }
   ],
   "source": [
    "plt.subplot(2,1,1)\n",
    "plt.show()"
   ]
  },
  {
   "cell_type": "code",
   "execution_count": 12,
   "id": "6a71e71d",
   "metadata": {},
   "outputs": [
    {
     "data": {
      "text/html": [
       "<div>\n",
       "<style scoped>\n",
       "    .dataframe tbody tr th:only-of-type {\n",
       "        vertical-align: middle;\n",
       "    }\n",
       "\n",
       "    .dataframe tbody tr th {\n",
       "        vertical-align: top;\n",
       "    }\n",
       "\n",
       "    .dataframe thead th {\n",
       "        text-align: right;\n",
       "    }\n",
       "</style>\n",
       "<table border=\"1\" class=\"dataframe\">\n",
       "  <thead>\n",
       "    <tr style=\"text-align: right;\">\n",
       "      <th></th>\n",
       "      <th>time</th>\n",
       "      <th>Displacement</th>\n",
       "    </tr>\n",
       "  </thead>\n",
       "  <tbody>\n",
       "  </tbody>\n",
       "</table>\n",
       "</div>"
      ],
      "text/plain": [
       "Empty DataFrame\n",
       "Columns: [time, Displacement]\n",
       "Index: []"
      ]
     },
     "execution_count": 12,
     "metadata": {},
     "output_type": "execute_result"
    }
   ],
   "source": [
    "import pandas as pd\n",
    "data= {'time':t[1:],\n",
    "    'Displacement' :np.array(displacement[1:]) * 20 / 26}\n",
    "df = pd.DataFrame(data)\n",
    "df.head()"
   ]
  },
  {
   "cell_type": "code",
   "execution_count": 13,
   "id": "93be5fd2",
   "metadata": {},
   "outputs": [],
   "source": [
    "df.to_csv('uMPA_2.csv')"
   ]
  },
  {
   "cell_type": "code",
   "execution_count": null,
   "id": "712de5f1",
   "metadata": {},
   "outputs": [],
   "source": []
  }
 ],
 "metadata": {
  "kernelspec": {
   "display_name": "Python 3 (ipykernel)",
   "language": "python",
   "name": "python3"
  },
  "language_info": {
   "codemirror_mode": {
    "name": "ipython",
    "version": 3
   },
   "file_extension": ".py",
   "mimetype": "text/x-python",
   "name": "python",
   "nbconvert_exporter": "python",
   "pygments_lexer": "ipython3",
   "version": "3.10.9"
  }
 },
 "nbformat": 4,
 "nbformat_minor": 5
}
